{
 "cells": [
  {
   "cell_type": "code",
   "execution_count": 3,
   "id": "09f54250-963a-4ec9-87c6-aa87234c300a",
   "metadata": {
    "tags": []
   },
   "outputs": [
    {
     "data": {
      "text/html": [
       "\n",
       "            <style>\n",
       "                .geemap-dark {\n",
       "                    --jp-widgets-color: white;\n",
       "                    --jp-widgets-label-color: white;\n",
       "                    --jp-ui-font-color1: white;\n",
       "                    --jp-layout-color2: #454545;\n",
       "                    background-color: #383838;\n",
       "                }\n",
       "\n",
       "                .geemap-dark .jupyter-button {\n",
       "                    --jp-layout-color3: #383838;\n",
       "                }\n",
       "\n",
       "                .geemap-colab {\n",
       "                    background-color: var(--colab-primary-surface-color, white);\n",
       "                }\n",
       "\n",
       "                .geemap-colab .jupyter-button {\n",
       "                    --jp-layout-color3: var(--colab-primary-surface-color, white);\n",
       "                }\n",
       "            </style>\n",
       "            "
      ],
      "text/plain": [
       "<IPython.core.display.HTML object>"
      ]
     },
     "metadata": {},
     "output_type": "display_data"
    }
   ],
   "source": [
    "!pip freeze > requirements.txt"
   ]
  },
  {
   "cell_type": "code",
   "execution_count": 1,
   "id": "31e6f756-27c0-40ac-b992-bd34025f6e55",
   "metadata": {
    "tags": []
   },
   "outputs": [
    {
     "ename": "KeyboardInterrupt",
     "evalue": "",
     "output_type": "error",
     "traceback": [
      "\u001b[1;31m---------------------------------------------------------------------------\u001b[0m",
      "\u001b[1;31mKeyboardInterrupt\u001b[0m                         Traceback (most recent call last)",
      "Cell \u001b[1;32mIn[1], line 3\u001b[0m\n\u001b[0;32m      1\u001b[0m \u001b[38;5;28;01mimport\u001b[39;00m \u001b[38;5;21;01mee\u001b[39;00m\n\u001b[0;32m      2\u001b[0m \u001b[38;5;28;01mimport\u001b[39;00m \u001b[38;5;21;01mgeemap\u001b[39;00m\n\u001b[1;32m----> 3\u001b[0m \u001b[38;5;28;01mimport\u001b[39;00m \u001b[38;5;21;01mrasterio\u001b[39;00m\n\u001b[0;32m      4\u001b[0m \u001b[38;5;28;01mimport\u001b[39;00m \u001b[38;5;21;01mtorch\u001b[39;00m\n\u001b[0;32m      5\u001b[0m \u001b[38;5;28;01mimport\u001b[39;00m \u001b[38;5;21;01mnumpy\u001b[39;00m \u001b[38;5;28;01mas\u001b[39;00m \u001b[38;5;21;01mnp\u001b[39;00m\n",
      "File \u001b[1;32m~\\AppData\\Roaming\\Python\\Python311\\site-packages\\rasterio\\__init__.py:37\u001b[0m\n\u001b[0;32m     34\u001b[0m                 \u001b[38;5;28;01mif\u001b[39;00m p \u001b[38;5;129;01mand\u001b[39;00m glob\u001b[38;5;241m.\u001b[39mglob(os\u001b[38;5;241m.\u001b[39mpath\u001b[38;5;241m.\u001b[39mjoin(p, \u001b[38;5;124m\"\u001b[39m\u001b[38;5;124mgdal*.dll\u001b[39m\u001b[38;5;124m\"\u001b[39m)):\n\u001b[0;32m     35\u001b[0m                     os\u001b[38;5;241m.\u001b[39madd_dll_directory(os\u001b[38;5;241m.\u001b[39mpath\u001b[38;5;241m.\u001b[39mabspath(p))\n\u001b[1;32m---> 37\u001b[0m \u001b[38;5;28;01mfrom\u001b[39;00m \u001b[38;5;21;01mrasterio\u001b[39;00m\u001b[38;5;21;01m.\u001b[39;00m\u001b[38;5;21;01m_base\u001b[39;00m \u001b[38;5;28;01mimport\u001b[39;00m DatasetBase\n\u001b[0;32m     38\u001b[0m \u001b[38;5;28;01mfrom\u001b[39;00m \u001b[38;5;21;01mrasterio\u001b[39;00m\u001b[38;5;21;01m.\u001b[39;00m\u001b[38;5;21;01m_io\u001b[39;00m \u001b[38;5;28;01mimport\u001b[39;00m Statistics\n\u001b[0;32m     39\u001b[0m \u001b[38;5;28;01mfrom\u001b[39;00m \u001b[38;5;21;01mrasterio\u001b[39;00m\u001b[38;5;21;01m.\u001b[39;00m\u001b[38;5;21;01m_vsiopener\u001b[39;00m \u001b[38;5;28;01mimport\u001b[39;00m _opener_registration\n",
      "File \u001b[1;32m<frozen importlib._bootstrap>:405\u001b[0m, in \u001b[0;36mparent\u001b[1;34m(self)\u001b[0m\n",
      "\u001b[1;31mKeyboardInterrupt\u001b[0m: "
     ]
    }
   ],
   "source": [
    "# === Импорт необходимых библиотек ===\n",
    "import ee\n",
    "import geemap\n",
    "import rasterio\n",
    "import torch\n",
    "import numpy as np\n",
    "import pandas as pd\n",
    "import geopandas as gpd\n",
    "from shapely.geometry import box\n",
    "from pyproj import Geod\n",
    "from rasterio.mask import mask\n",
    "import torchvision.transforms as T\n",
    "from torchvision.models.segmentation import deeplabv3_resnet50\n",
    "import matplotlib.pyplot as plt\n",
    "import cv2"
   ]
  },
  {
   "cell_type": "code",
   "execution_count": null,
   "id": "51b3be30-6842-43a9-851a-862bddd86b71",
   "metadata": {
    "tags": []
   },
   "outputs": [],
   "source": [
    "# === 1. Инициализация Earth Engine ===\n",
    "ee.Initialize()"
   ]
  },
  {
   "cell_type": "code",
   "execution_count": 19,
   "id": "71d718ef-52ac-477a-9649-02cb427ec89c",
   "metadata": {
    "tags": []
   },
   "outputs": [
    {
     "data": {
      "text/html": [
       "\n",
       "            <style>\n",
       "                .geemap-dark {\n",
       "                    --jp-widgets-color: white;\n",
       "                    --jp-widgets-label-color: white;\n",
       "                    --jp-ui-font-color1: white;\n",
       "                    --jp-layout-color2: #454545;\n",
       "                    background-color: #383838;\n",
       "                }\n",
       "\n",
       "                .geemap-dark .jupyter-button {\n",
       "                    --jp-layout-color3: #383838;\n",
       "                }\n",
       "\n",
       "                .geemap-colab {\n",
       "                    background-color: var(--colab-primary-surface-color, white);\n",
       "                }\n",
       "\n",
       "                .geemap-colab .jupyter-button {\n",
       "                    --jp-layout-color3: var(--colab-primary-surface-color, white);\n",
       "                }\n",
       "            </style>\n",
       "            "
      ],
      "text/plain": [
       "<IPython.core.display.HTML object>"
      ]
     },
     "metadata": {},
     "output_type": "display_data"
    }
   ],
   "source": [
    "# === 2. Общие вспомогательные функции ===\n",
    "def select_region(lon_min, lat_min, lon_max, lat_max):\n",
    "    \"\"\"Создает область интереса на основе координат.\"\"\"\n",
    "    return ee.Geometry.Rectangle([lon_min, lat_min, lon_max, lat_max])\n",
    "\n",
    "def get_coordinates():\n",
    "    \"\"\"Запрашивает у пользователя координаты прямоугольника.\"\"\"\n",
    "    try:\n",
    "        print(\"Введите координаты прямоугольника (долгота и широта):\")\n",
    "        lon_min = float(input(\"Минимальная долгота (lon_min): \"))\n",
    "        lat_min = float(input(\"Минимальная широта (lat_min): \"))\n",
    "        lon_max = float(input(\"Максимальная долгота (lon_max): \"))\n",
    "        lat_max = float(input(\"Максимальная широта (lat_max): \"))\n",
    "        return lon_min, lat_min, lon_max, lat_max\n",
    "    except ValueError:\n",
    "        print(\"Ошибка: Введите корректные числа для координат.\")\n",
    "        return get_coordinates()\n",
    "\n",
    "def calculate_area_from_coordinates(lon_min, lat_min, lon_max, lat_max):\n",
    "    \"\"\"Рассчитывает площадь прямоугольного участка в квадратных метрах.\"\"\"\n",
    "    rectangle = box(lon_min, lat_min, lon_max, lat_max)\n",
    "    geod = Geod(ellps=\"WGS84\")\n",
    "    area, _ = geod.geometry_area_perimeter(rectangle)\n",
    "    return abs(area)"
   ]
  },
  {
   "cell_type": "code",
   "execution_count": null,
   "id": "4485dd70-7997-4724-9a97-418b53abec1d",
   "metadata": {},
   "outputs": [],
   "source": [
    "# === 3. Работа с данными качества воздуха ===\n",
    "def fetch_air_quality_data(region, start_date='2024-06-01', end_date='2024-06-15'):\n",
    "    \"\"\"Получает данные по NO2, CO, CH4 и SO2.\"\"\"\n",
    "    no2 = ee.ImageCollection(\"COPERNICUS/S5P/NRTI/L3_NO2\").filterDate(start_date, end_date) \\\n",
    "        .select('tropospheric_NO2_column_number_density').mean().clip(region)\n",
    "    co = ee.ImageCollection(\"COPERNICUS/S5P/NRTI/L3_CO\").filterDate(start_date, end_date) \\\n",
    "        .select('CO_column_number_density').mean().clip(region)\n",
    "    ch4 = ee.ImageCollection(\"COPERNICUS/S5P/OFFL/L3_CH4\").filterDate(start_date, end_date) \\\n",
    "        .select('CH4_column_volume_mixing_ratio_dry_air').mean().clip(region)\n",
    "    so2 = ee.ImageCollection(\"COPERNICUS/S5P/NRTI/L3_SO2\").filterDate(start_date, end_date) \\\n",
    "        .select('SO2_column_number_density').mean().clip(region)\n",
    "    return no2, co, ch4, so2\n",
    "\n",
    "def export_data_to_geotiff(data, filename, region):\n",
    "    \"\"\"Экспортирует данные в GeoTIFF.\"\"\"\n",
    "    geemap.ee_export_image(data, filename=filename, scale=1000, region=region.getInfo())\n",
    "\n",
    "def calculate_average_pollution(region, files):\n",
    "    \"\"\"Вычисляет средние значения загрязнителей по GeoTIFF-файлам.\"\"\"\n",
    "    averages = {}\n",
    "    for pollutant, file_path in files.items():\n",
    "        with rasterio.open(file_path) as src:\n",
    "            out_image, _ = mask(src, [region], crop=True)\n",
    "            values = out_image[0]\n",
    "            values = values[values > 0]\n",
    "            averages[pollutant] = np.mean(values) if values.size > 0 else 0\n",
    "    return averages"
   ]
  },
  {
   "cell_type": "code",
   "execution_count": 24,
   "id": "e0ef2d5b-9d8c-4f68-a433-ab9734d7efa0",
   "metadata": {
    "tags": []
   },
   "outputs": [
    {
     "data": {
      "text/html": [
       "\n",
       "            <style>\n",
       "                .geemap-dark {\n",
       "                    --jp-widgets-color: white;\n",
       "                    --jp-widgets-label-color: white;\n",
       "                    --jp-ui-font-color1: white;\n",
       "                    --jp-layout-color2: #454545;\n",
       "                    background-color: #383838;\n",
       "                }\n",
       "\n",
       "                .geemap-dark .jupyter-button {\n",
       "                    --jp-layout-color3: #383838;\n",
       "                }\n",
       "\n",
       "                .geemap-colab {\n",
       "                    background-color: var(--colab-primary-surface-color, white);\n",
       "                }\n",
       "\n",
       "                .geemap-colab .jupyter-button {\n",
       "                    --jp-layout-color3: var(--colab-primary-surface-color, white);\n",
       "                }\n",
       "            </style>\n",
       "            "
      ],
      "text/plain": [
       "<IPython.core.display.HTML object>"
      ]
     },
     "metadata": {},
     "output_type": "display_data"
    }
   ],
   "source": [
    "# === 4. Работа с изображениями и сегментацией ===\n",
    "def segment_image(image_path, model, label_colors):\n",
    "    \"\"\"Выполняет сегментацию изображения.\"\"\"\n",
    "    img = cv2.imread(image_path)\n",
    "    img = cv2.cvtColor(img, cv2.COLOR_BGR2RGB)\n",
    "    transform = T.Compose([\n",
    "        T.ToTensor(),\n",
    "        T.Normalize(mean=[0.485, 0.456, 0.406], std=[0.229, 0.224, 0.225])\n",
    "    ])\n",
    "    input_tensor = transform(img).unsqueeze(0)\n",
    "    with torch.no_grad():\n",
    "        output = model(input_tensor)['out'][0]\n",
    "    output_predictions = torch.argmax(output, dim=0).cpu().numpy()\n",
    "    segmented_image = label_colors[output_predictions]\n",
    "    return img, segmented_image\n",
    "\n",
    "def visualize_segmentation(original, segmented):\n",
    "    \"\"\"Отображает оригинальное изображение и результат сегментации.\"\"\"\n",
    "    fig, axes = plt.subplots(1, 2, figsize=(15, 8))\n",
    "    axes[0].imshow(original)\n",
    "    axes[0].set_title(\"Оригинальное изображение\")\n",
    "    axes[0].axis(\"off\")\n",
    "    axes[1].imshow(segmented.astype('uint8'))\n",
    "    axes[1].set_title(\"Сегментированное изображение\")\n",
    "    axes[1].axis(\"off\")\n",
    "    plt.show()"
   ]
  },
  {
   "cell_type": "code",
   "execution_count": null,
   "id": "2211e636-07bf-43cf-a9ae-341064a32792",
   "metadata": {},
   "outputs": [],
   "source": [
    "# === 5. Работа с детекцией объектов ===\n",
    "def detect_objects(image_path, model_path, img_size=640, conf_thresh=0.5):\n",
    "    \"\"\"Детекция объектов на изображении с использованием YOLOv5.\"\"\"\n",
    "    try:\n",
    "        model = torch.hub.load('ultralytics/yolov5', 'custom', path=model_path)\n",
    "        model.conf = conf_thresh\n",
    "        model.imgsz = img_size\n",
    "        results = model(image_path)\n",
    "        return results.pandas().xyxy[0]\n",
    "    except Exception as e:\n",
    "        print(f\"Ошибка при загрузке модели YOLOv5: {e}\")\n",
    "        return pd.DataFrame()"
   ]
  },
  {
   "cell_type": "code",
   "execution_count": null,
   "id": "d2363234-248f-4824-a3d8-55591b079a00",
   "metadata": {},
   "outputs": [],
   "source": [
    "# === Основной код ===\n",
    "# Ввод координат от пользователя\n",
    "lon_min, lat_min, lon_max, lat_max = get_coordinates()\n",
    "region = select_region(lon_min, lat_min, lon_max, lat_max)\n",
    "region_geometry = box(lon_min, lat_min, lon_max, lat_max)\n",
    "total_area = calculate_area_from_coordinates(lon_min, lat_min, lon_max, lat_max)\n",
    "print(f\"Площадь участка: {total_area:.2f} м²\")"
   ]
  },
  {
   "cell_type": "code",
   "execution_count": null,
   "id": "8018ab52-4655-4d36-b7a1-eb8a52f40cc0",
   "metadata": {},
   "outputs": [],
   "source": [
    "# Загрузка данных о качестве воздуха\n",
    "no2_data, co_data, ch4_data, so2_data = fetch_air_quality_data(region)\n",
    "export_data_to_geotiff(no2_data, \"no2_concentration.tif\", region)\n",
    "export_data_to_geotiff(co_data, \"co_concentration.tif\", region)\n",
    "export_data_to_geotiff(ch4_data, \"ch4_concentration.tif\", region)\n",
    "export_data_to_geotiff(so2_data, \"so2_concentration.tif\", region)\n",
    "print(\"Данные о качестве воздуха успешно экспортированы в GeoTIFF.\")"
   ]
  },
  {
   "cell_type": "code",
   "execution_count": null,
   "id": "43444295-5294-4207-a8cb-cc8a9cf78c4c",
   "metadata": {},
   "outputs": [],
   "source": [
    "# Путь к модели YOLOv5 и изображению\n",
    "model_path = \"car_detection/yolov5/runs/train/weights/best.pt\"\n",
    "image_path = \"path/to/your/image.jpg\"\n",
    "\n",
    "# Запуск детекции транспорта\n",
    "detections = detect_objects(image_path, model_path)\n",
    "\n",
    "# Подсчёт транспортных средств\n",
    "transport_data = {\n",
    "    'cars': len(detections[detections['class'] == 0]),\n",
    "    'buses': len(detections[detections['class'] == 1]),\n",
    "    'trucks': len(detections[detections['class'] == 2])\n",
    "}\n",
    "print(f\"Данные о транспорте: {transport_data}\")\n",
    "for vehicle, count in transport_data.items():\n",
    "    print(f\"- {vehicle}: {count}\")"
   ]
  },
  {
   "cell_type": "code",
   "execution_count": 2,
   "id": "08cb9fbe-69b4-46f4-bcbb-89a64fe1f264",
   "metadata": {
    "tags": []
   },
   "outputs": [
    {
     "data": {
      "text/html": [
       "\n",
       "            <style>\n",
       "                .geemap-dark {\n",
       "                    --jp-widgets-color: white;\n",
       "                    --jp-widgets-label-color: white;\n",
       "                    --jp-ui-font-color1: white;\n",
       "                    --jp-layout-color2: #454545;\n",
       "                    background-color: #383838;\n",
       "                }\n",
       "\n",
       "                .geemap-dark .jupyter-button {\n",
       "                    --jp-layout-color3: #383838;\n",
       "                }\n",
       "\n",
       "                .geemap-colab {\n",
       "                    background-color: var(--colab-primary-surface-color, white);\n",
       "                }\n",
       "\n",
       "                .geemap-colab .jupyter-button {\n",
       "                    --jp-layout-color3: var(--colab-primary-surface-color, white);\n",
       "                }\n",
       "            </style>\n",
       "            "
      ],
      "text/plain": [
       "<IPython.core.display.HTML object>"
      ]
     },
     "metadata": {},
     "output_type": "display_data"
    },
    {
     "ename": "NameError",
     "evalue": "name 'deeplabv3_resnet50' is not defined",
     "output_type": "error",
     "traceback": [
      "\u001b[1;31m---------------------------------------------------------------------------\u001b[0m",
      "\u001b[1;31mNameError\u001b[0m                                 Traceback (most recent call last)",
      "Cell \u001b[1;32mIn[2], line 1\u001b[0m\n\u001b[1;32m----> 1\u001b[0m model \u001b[38;5;241m=\u001b[39m deeplabv3_resnet50(pretrained\u001b[38;5;241m=\u001b[39m\u001b[38;5;28;01mTrue\u001b[39;00m)\n\u001b[0;32m      2\u001b[0m model\u001b[38;5;241m.\u001b[39meval()\n\u001b[0;32m      4\u001b[0m LABEL_COLORS \u001b[38;5;241m=\u001b[39m np\u001b[38;5;241m.\u001b[39marray([\n\u001b[0;32m      5\u001b[0m     (\u001b[38;5;241m0\u001b[39m, \u001b[38;5;241m0\u001b[39m, \u001b[38;5;241m0\u001b[39m),       \u001b[38;5;66;03m# Background\u001b[39;00m\n\u001b[0;32m      6\u001b[0m     (\u001b[38;5;241m128\u001b[39m, \u001b[38;5;241m0\u001b[39m, \u001b[38;5;241m0\u001b[39m),     \u001b[38;5;66;03m# Buildings\u001b[39;00m\n\u001b[1;32m   (...)\u001b[0m\n\u001b[0;32m     10\u001b[0m     (\u001b[38;5;241m128\u001b[39m, \u001b[38;5;241m0\u001b[39m, \u001b[38;5;241m128\u001b[39m),   \u001b[38;5;66;03m# Other\u001b[39;00m\n\u001b[0;32m     11\u001b[0m ])\n",
      "\u001b[1;31mNameError\u001b[0m: name 'deeplabv3_resnet50' is not defined"
     ]
    }
   ],
   "source": [
    "# Инициализация модели сегментации\n",
    "model = deeplabv3_resnet50(pretrained=True)\n",
    "model.eval()\n",
    "LABEL_COLORS = np.array([\n",
    "    (0, 0, 0),       # Background\n",
    "    (128, 0, 0),     # Buildings\n",
    "    (0, 128, 0),     # Parks/Forest\n",
    "    (128, 128, 0),   # Roads\n",
    "    (0, 0, 128),     # Water\n",
    "    (128, 0, 128)    # Other\n",
    "])"
   ]
  },
  {
   "cell_type": "code",
   "execution_count": null,
   "id": "a5404c49-7b85-40f5-bdbf-d9ec0bca8b2d",
   "metadata": {},
   "outputs": [],
   "source": [
    "# Выполнение сегментации изображения\n",
    "original, segmented = segment_image(image_path, model, LABEL_COLORS)\n",
    "\n",
    "# Визуализация результатов сегментации\n",
    "visualize_segmentation(original, segmented)"
   ]
  },
  {
   "cell_type": "code",
   "execution_count": null,
   "id": "e80a4c34-2655-4081-bd86-ac15b682e1eb",
   "metadata": {},
   "outputs": [],
   "source": [
    "# Коэффициенты влияния земельного использования на загрязнители\n",
    "land_use = {'roads': 0.15, 'buildings': 0.25, 'parks': 0.20, 'water': 0.10}\n",
    "updated_land_use = land_use.copy()\n",
    "\n",
    "# Ввод параметров строительства\n",
    "new_building_area = float(input(\"Площадь нового здания (м²): \"))\n",
    "new_roads_area = float(input(\"Площадь новых дорог (м²): \"))\n",
    "updated_land_use['roads'] += new_roads_area / total_area\n",
    "updated_land_use['buildings'] += new_building_area / total_area\n",
    "updated_land_use['parks'] -= (new_building_area + new_roads_area) / total_area\n",
    "updated_land_use['parks'] = max(updated_land_use['parks'], 0)"
   ]
  },
  {
   "cell_type": "code",
   "execution_count": null,
   "id": "c004e6f2-0057-4313-9604-97c59c996ed8",
   "metadata": {},
   "outputs": [],
   "source": [
    "# Рассчитываем изменения загрязнителей\n",
    "pollution_files = {\n",
    "    'NO2': \"no2_concentration.tif\",\n",
    "    'CO': \"co_concentration.tif\",\n",
    "    'CH4': \"ch4_concentration.tif\",\n",
    "    'SO2': \"so2_concentration.tif\"\n",
    "}\n",
    "current_pollution = calculate_average_pollution(region_geometry, pollution_files)\n",
    "\n",
    "print(\"\\nСредние значения загрязнителей воздуха на участке:\")"
   ]
  },
  {
   "cell_type": "code",
   "execution_count": null,
   "id": "72d5598c-99f6-4e1f-a1b7-163472f03afe",
   "metadata": {},
   "outputs": [],
   "source": [
    "for pollutant, value in current_pollution.items():\n",
    "    print(f\"- {pollutant}: {value:.6f}\")\n",
    "\n",
    "pollution_change = {}\n",
    "for pollutant in current_pollution.keys():\n",
    "    land_use_change = sum(\n",
    "        (updated_land_use[land_type] - land_use[land_type]) * land_use_impact_factors[pollutant].get(land_type, 0) * total_area\n",
    "        for land_type in land_use\n",
    "    )\n",
    "    transport_change = sum(\n",
    "        transport_impact_factors[pollutant][vehicle_type] * count\n",
    "        for vehicle_type, count in transport_data.items()\n",
    "    )\n",
    "    pollution_change[pollutant] = land_use_change + transport_change\n",
    "\n",
    "new_pollution = {pollutant: current_pollution[pollutant] + pollution_change[pollutant] \n",
    "                 for pollutant in current_pollution}\n",
    "\n",
    "print(\"\\n=== Рекомендации для строительной компании ===\")\n",
    "print(f\"Площадь участка: {total_area:.2f} м²\")\n",
    "print(f\"Площадь нового здания: {new_building_area:.2f} м²\")\n",
    "print(f\"Площадь новых дорог: {new_roads_area:.2f} м²\")\n",
    "\n",
    "for pollutant, change in pollution_change.items():\n",
    "    print(f\"\\nОжидаемое изменение {pollutant}: {change:+.6f} mol/m²\")\n",
    "    if change > 0:\n",
    "        print(f\"Рекомендация: Рассмотрите компенсационные меры для снижения {pollutant}.\")\n",
    "    else:\n",
    "        print(f\"{pollutant} снизится, что благоприятно для окружающей среды.\")\n",
    "\n",
    "if updated_land_use['parks'] < 0.1:\n",
    "    print(\"\\nПарковая зона существенно сократилась. Рекомендуется высадить деревья или сохранить оставшуюся зелень.\")"
   ]
  },
  {
   "cell_type": "code",
   "execution_count": null,
   "id": "f88b454a-44a4-47f2-994b-33951fb0a17a",
   "metadata": {},
   "outputs": [],
   "source": []
  }
 ],
 "metadata": {
  "kernelspec": {
   "display_name": "Python 3 (ipykernel)",
   "language": "python",
   "name": "python3"
  },
  "language_info": {
   "codemirror_mode": {
    "name": "ipython",
    "version": 3
   },
   "file_extension": ".py",
   "mimetype": "text/x-python",
   "name": "python",
   "nbconvert_exporter": "python",
   "pygments_lexer": "ipython3",
   "version": "3.11.4"
  }
 },
 "nbformat": 4,
 "nbformat_minor": 5
}
